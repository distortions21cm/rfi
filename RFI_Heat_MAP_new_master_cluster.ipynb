{
 "cells": [
  {
   "cell_type": "code",
   "execution_count": 76,
   "id": "90dc6213",
   "metadata": {},
   "outputs": [],
   "source": [
    "######## Importing the necessary libraries #########http://localhost:8888/notebooks/rfi_RRI/RFI_Heat_MAP_new_master_cluster.ipynb#\n",
    "\n",
    "\n",
    "import pandas as pd\n",
    "import numpy as np\n",
    "import healpy as hp\n",
    "import matplotlib.pyplot as plt\n",
    "from astropy.constants import c, k_B,R_earth \n",
    "import h5py\n",
    "\n",
    "\n",
    "\n"
   ]
  },
  {
   "cell_type": "code",
   "execution_count": 77,
   "id": "d70dc92e",
   "metadata": {},
   "outputs": [],
   "source": [
    "##Logging calls###\n",
    "\n",
    "import logging\n",
    "logname = \"power_cube.log\"\n",
    "logging.basicConfig(\n",
    "    filename=logname,\n",
    "    filemode=\"a\",\n",
    "    format=\"%(asctime)s,%(msecs)d %(name)s %(levelname)s %(message)s\",\n",
    "    datefmt=\"%H:%M:%S\",\n",
    "    level=logging.DEBUG,\n",
    ")"
   ]
  },
  {
   "cell_type": "code",
   "execution_count": 78,
   "id": "d4f3df24",
   "metadata": {},
   "outputs": [],
   "source": [
    "### Constants and file path###\n",
    "\n",
    "\n",
    "fstart=87 # in MHz\n",
    "fstop= 108 # in MHz\n",
    "fres= 0.5# in MHz\n",
    "freq=np.arange(fstart,fstop,fres)\n",
    "logging.info(\"User defined Frequency axis generated\")\n",
    "nside = 4\n",
    "min_alt=400  #in km\n",
    "max_alt=36000 #in km\n",
    "data_point=1\n",
    "altitude= np.logspace(np.log10(min_alt),np.log10(max_alt),data_point) \n",
    "logging.info(\"Altitudes generated\")\n",
    "R_E=R_earth.to('km') # Radius of Earth in km\n",
    "\n",
    "\n",
    "file_path=\"/home/ghoshsonia/rfi_RRI/Final_Revised.csv\"\n",
    "#output_file_path"
   ]
  },
  {
   "cell_type": "code",
   "execution_count": 79,
   "id": "832845c5",
   "metadata": {},
   "outputs": [],
   "source": [
    "##### Fetching the cleaned FM transmitter data for the countries: CANADA, AUSTRALIA ,GERMANY,USA and SOUTH AFRICA ####\n",
    "#####  EIRP in Watts #####\n",
    "##### Latitude ranges from 90(N.Pole) to 0 (EQUATOR) to -90(S.Pole) ########\n",
    "##### Longitude ranges between 0 and 360 degree eastwards ############\n",
    "\n",
    "\n",
    "#Reading the CSV file\n",
    "df=pd.read_csv(\"/home/ghoshsonia/rfi_RRI/Final_Revised.csv\")\n",
    "\n",
    "#Removing the Null/missing values in the CSV file\n",
    "df.dropna(subset = [\"Latitude in degrees\"], inplace=True)\n"
   ]
  },
  {
   "cell_type": "code",
   "execution_count": 80,
   "id": "366d34ac",
   "metadata": {},
   "outputs": [],
   "source": [
    "freq=np.arange(fstart,fstop,fres)\n",
    "\n",
    "#### Array consisting of frequencies from the dataset\n",
    "data_freq=df['Frequency(MHz)'].values\n",
    "\n",
    "\n",
    "\n",
    "diff=np.zeros((len(data_freq),len(freq)),dtype=object)\n",
    "freq_arr=np.zeros(len(data_freq))\n",
    "\n",
    "\n",
    "for i in range(len(data_freq)):\n",
    "    for j in range(len(freq)):\n",
    "        diff[i][j]=abs(data_freq[i]-freq[j])\n",
    "        freq_arr[i]=freq[np.argmin(diff[i])]"
   ]
  },
  {
   "cell_type": "code",
   "execution_count": 81,
   "id": "5db39dda",
   "metadata": {},
   "outputs": [],
   "source": [
    "df['New Frequency']=freq_arr\n"
   ]
  },
  {
   "cell_type": "code",
   "execution_count": 82,
   "id": "0ab24257",
   "metadata": {},
   "outputs": [],
   "source": [
    "#Resolution of the map\n",
    "logging.info(\"-----------Resolution of the map---------\")\n",
    "logging.info(\"The number of pixels for the given NSIDE: \" + str(hp.nside2npix(nside)))\n",
    "logging.info(\"Approximate resolution in degrees for given nside: \" + str(np.degrees(hp.nside2resol(nside))))\n",
    "\n",
    "\n"
   ]
  },
  {
   "cell_type": "code",
   "execution_count": 83,
   "id": "a90dfe7f",
   "metadata": {},
   "outputs": [
    {
     "name": "stderr",
     "output_type": "stream",
     "text": [
      "/home/ghoshsonia/.local/lib/python3.8/site-packages/healpy/pixelfunc.py:482: RuntimeWarning: invalid value encountered in _ang2pix_ring\n",
      "  return pixlib._ang2pix_ring(nside, theta, phi)\n"
     ]
    }
   ],
   "source": [
    "\n",
    "######-------------------Allocating Pixel number to the Latitude and Longitude of each Tx in the CSV---------#######\n",
    "\n",
    "\n",
    "\n",
    "# Healpy pixel number when input angles are assumed to be longitude and latitude in degrees\n",
    "pixel_indices = hp.ang2pix(nside, df['Longitude in degrees'].to_numpy() ,df['Latitude in degrees'].to_numpy(),lonlat=True)\n",
    "df['Pixel_number']=pixel_indices \n",
    "logging.info(\"The pixel numbers corresponding to the Latitude and Longitude of each Tx is generated\")\n"
   ]
  },
  {
   "cell_type": "code",
   "execution_count": 84,
   "id": "720296f1",
   "metadata": {},
   "outputs": [],
   "source": [
    "#######---------------Conversion of the pixel numbers w.r.t the given NSIDE to corresponding angular coordinates--------#######\n",
    "\n",
    "\n",
    "NPIX = hp.nside2npix(nside) # Storing the number of pixels of the map corresponding to the given NSIDE\n",
    "arr=np.arange(NPIX) #Create an an array of pixel numbers with respect to the NSIDE\n",
    "\n",
    "phi,theta = (hp.pix2ang(nside, ipix=arr,lonlat=True)) # Array of the angular coordinates co-latitude(theta) \n",
    "                                                        #and longitude(phi) in degrees \n",
    "                                                       # With respect to the given NSIDE\n",
    "logging.info(\"The number of pixels\" + str(NPIX))\n"
   ]
  },
  {
   "cell_type": "code",
   "execution_count": 85,
   "id": "bc44f2bd",
   "metadata": {},
   "outputs": [
    {
     "name": "stderr",
     "output_type": "stream",
     "text": [
      "<ipython-input-85-28634b723fdc>:14: RuntimeWarning: divide by zero encountered in double_scalars\n",
      "  elev_ang[k,i,j]=-(np.degrees(np.arctan((B-np.cos(np.radians(y[i,j])))/np.sin(np.radians(y[i,j]))))-y[i,j])\n"
     ]
    }
   ],
   "source": [
    "#Calculation of Elevation angle\n",
    "\n",
    "x=np.zeros((NPIX,NPIX))\n",
    "y=np.zeros((NPIX,NPIX))\n",
    "elev_ang=np.zeros((len(altitude),NPIX,NPIX))\n",
    "#R_E=6400\n",
    "for k in range(len(altitude)):\n",
    "    for i in range(len(theta)):\n",
    "        for j in range(len(theta)):\n",
    "        \n",
    "            x[i,j]=((np.cos(np.radians(theta[i])))*(np.cos(np.radians(theta[j])))*(np.cos(np.radians(phi[j]-phi[i])))+(np.sin(np.radians(theta[i])))*(np.sin(np.radians(theta[j]))))\n",
    "            y[i,j]=(np.arccos(x[i,j]))\n",
    "            B=(altitude[k] +R_E.value)/R_E.value\n",
    "            elev_ang[k,i,j]=-(np.degrees(np.arctan((B-np.cos(np.radians(y[i,j])))/np.sin(np.radians(y[i,j]))))-y[i,j])\n",
    "            \n",
    "#logging.info(\"Calculation of elevation angle finished\")"
   ]
  },
  {
   "cell_type": "code",
   "execution_count": 86,
   "id": "372b84c2",
   "metadata": {},
   "outputs": [],
   "source": [
    "\n",
    "# Function for Radiation pattern of the satellite antenna beam #\n",
    "beam_pattern=np.zeros((len(altitude),NPIX,NPIX))\n",
    "beam = lambda theta, phi: (np.cos(np.radians(theta)))**2  \n"
   ]
  },
  {
   "cell_type": "code",
   "execution_count": 87,
   "id": "d1304813",
   "metadata": {},
   "outputs": [],
   "source": [
    "# Assuming the satellite antenna beam to be symmetric across azimuth #\n",
    "# Calculation of the beam pattern #\n",
    "\n",
    "az=0\n",
    "beam_pattern = beam(elev_ang,az)\n",
    "logging.info(\"Beam pattern cube generated\")\n"
   ]
  },
  {
   "cell_type": "code",
   "execution_count": 88,
   "id": "adccab72",
   "metadata": {},
   "outputs": [],
   "source": [
    "###########----------------- Calculation of Field of view of the satellite---------#######\n",
    "###########-----------------Considering Nadir-pointing Field of View Geometry-------######\n",
    "##########-----------------Considering the FOV of the satellite to be tangent to the surface of the Earth------######\n",
    "\n",
    "\n",
    "FOV=np.zeros(len(altitude))\n",
    "for i in range(0,len(altitude)):\n",
    "# Consider a case of full coverage under elevation of 0 º\n",
    "    #Rad= 6371 # Mean radius of Earth in km\n",
    "    \n",
    "    FOV[i]= 2*np.arcsin(R_E.value/(R_E.value+ altitude[i]))  # Field of view for maximal coverage in radians when elevation is 0 º \n",
    "    \n",
    "    logging.info(f\"The Field of view of the satellite at a height of {altitude[i]:.2f} km is {FOV[i]:.2f} radians\")\n",
    "    "
   ]
  },
  {
   "cell_type": "code",
   "execution_count": 89,
   "id": "5482a0a9",
   "metadata": {},
   "outputs": [],
   "source": [
    "###########----------------- Calculation of the radius of the FOV of the satellite---------#######\n",
    "\n",
    "\n",
    "\n",
    "# The surface of the coverage area of the Earth depends on the central angle\n",
    "Central_angle=np.zeros(len(altitude))\n",
    "for i in range(0,len(altitude)):\n",
    "    Central_angle[i]=np.arccos(R_E.value/(R_E.value+altitude[i])) # Central angle in radians\n",
    "    \n",
    "    Dia_of_FOV=2*Central_angle*R_E.value  # Diameter of the FOV (disc on the Earth's surface)in km\n",
    "    Rad_of_FOV= Dia_of_FOV/2 # Radius of the FOV in km\n",
    "    Rad_of_FOV=Rad_of_FOV/R_E.value  # Radius of the FOV in Radians\n",
    "    logging.info(f\"The Radius of the Field of View for a height of {altitude[i]:.2f} km in radians is {Rad_of_FOV[i]:.2f}\")\n"
   ]
  },
  {
   "cell_type": "code",
   "execution_count": 90,
   "id": "9654f3fd",
   "metadata": {},
   "outputs": [],
   "source": [
    "###############-----Storing indices of the pixel number that are inside the circle/disc(FOV) wrt the altitude-----------######\n",
    "\n",
    "\n",
    "vec1 = hp.ang2vec(phi,theta,lonlat=True) #Using ang2vec convert angles that is co-latitude and longitude in radians\n",
    "                                        #to 3D position vector\n",
    "    \n",
    "disc=np.zeros((len(arr),len(Rad_of_FOV)),dtype=object)#Array of indices of the pixel number that are inside the \n",
    "                                                      #circle/disc specified by vec and radius\n",
    "def pixel_disc(a,b):\n",
    "    for i in range(len(a)):\n",
    "        for j in range(len(b)):\n",
    "            disc[j][i]=hp.query_disc(nside, vec1[j], radius=a[i])\n",
    "pixel_disc(Rad_of_FOV,arr)"
   ]
  },
  {
   "cell_type": "code",
   "execution_count": 91,
   "id": "b522ae35",
   "metadata": {},
   "outputs": [],
   "source": [
    "######-----Storing indices of the pixel number that are common between the FOV disc and the satellite pixel no------####\n",
    "\n",
    "\n",
    "Comm_pix=np.zeros((len(disc[:,i]),len(Rad_of_FOV)),dtype=object)\n",
    "\n",
    "for i in range(len(Rad_of_FOV)):\n",
    "    for k in range(len(disc[:,i])):\n",
    "     \n",
    "\n",
    "         Comm_pix[k][i]=np.intersect1d(pixel_indices,disc[k][i])#Array of indices of the pixel number that are\n",
    "                                                           #common between the FOV disc and the satellite pixel no\n",
    "         "
   ]
  },
  {
   "cell_type": "code",
   "execution_count": 92,
   "id": "bf4f254a",
   "metadata": {},
   "outputs": [],
   "source": [
    "######-----Storing indices of the pixel number that are common between the FOV disc and the satellite pixel no ------#\n",
    "######-----And the same pixel number of the transmitters-----##\n",
    "\n",
    "\n",
    "\n",
    "######--- Initializing the array to store the pixel number that are common between the FOV disc ---####\n",
    "######                        and the satellite pixel no    ######\n",
    "Comm_TX=np.zeros((len(Comm_pix),len(Rad_of_FOV)),dtype=object)\n",
    "found_common=np.zeros(( len(Comm_pix),len(Rad_of_FOV)),dtype=object)\n",
    "\n",
    "for j in range(len(Rad_of_FOV)):\n",
    "    for i in range(len(Comm_pix)):\n",
    "        \n",
    "        Comm_TX[i][j]=set(Comm_pix[i][j])\n",
    "        found_common[i][j] = [l for l in pixel_indices if l in Comm_TX[i][j]]#Array of indices of the pixel number that \n",
    "                                            #are common between the FOV disc and the satellite pixel no with\n",
    "                                                    # Tx having same pixel number\n",
    "                                                                       \n",
    "logging.info(\"Common Pixel matrix generated\")         "
   ]
  },
  {
   "cell_type": "code",
   "execution_count": 93,
   "id": "e7ada8e9",
   "metadata": {},
   "outputs": [],
   "source": [
    "#######-------Store the values of the received power in Watt,dBm and Kelvin wrt altitude----#####\n",
    "######------- Calculation of the received power using Friis Transmission Equation--------#######\n",
    "######-------Considering isotropic transmitter and receiver with gain =1 -------------#########\n",
    "\n",
    "\n",
    "\n",
    "\n",
    "\n",
    "#res=fres*1e6 #Bandwidth\n",
    "res=200*1e3\n",
    "Rx_Power= np.zeros((len(df),len(altitude)))\n",
    "Rx_Power_in_Kelvin=np.zeros((len(df),len(altitude)))\n",
    "for i in range(0,len(altitude)):\n",
    "    for j in range(0,len(df)):\n",
    "        wavelength= c.value/(df.iloc[j]['Frequency(MHz)']*1e6)\n",
    "        Rx_Power[j][i]= ((df.iloc[j]['EIRP'])*(wavelength)**2)/(4*np.pi*altitude[i]*1e3)**2 #the Friis Transmission Equation\n",
    "        \n",
    "        Rx_Power_in_Kelvin[j][i]=Rx_Power[j][i]/(k_B.value*res)#in Kelvin\n",
    "        \n",
    "\n",
    "       "
   ]
  },
  {
   "cell_type": "code",
   "execution_count": 94,
   "id": "3077ec7b",
   "metadata": {},
   "outputs": [],
   "source": [
    "##### ---Create dataframe to store the values of the received power in Kelvin w.r.t the altitude----#####\n",
    "\n",
    "##### The first three columns of the dataframe indicate the altitude [0=400 km, 1= 3794 km , 2= 36000 km ] #####\n",
    "##### The column will vary with the user input for the number of altitudes ######\n",
    "\n",
    "df_data=pd.DataFrame(Rx_Power_in_Kelvin)\n",
    "df_data['Pixel_number']=pixel_indices\n",
    "df_data['New Frequency']=freq_arr\n",
    "\n",
    "logging.info(\"Dataframe to store the values of the received power in Kelvin generated \")   "
   ]
  },
  {
   "cell_type": "code",
   "execution_count": 95,
   "id": "52e37077",
   "metadata": {},
   "outputs": [
    {
     "name": "stderr",
     "output_type": "stream",
     "text": [
      "<ipython-input-95-674896c093ef>:14: SettingWithCopyWarning: \n",
      "A value is trying to be set on a copy of a slice from a DataFrame.\n",
      "Try using .loc[row_indexer,col_indexer] = value instead\n",
      "\n",
      "See the caveats in the documentation: https://pandas.pydata.org/pandas-docs/stable/user_guide/indexing.html#returning-a-view-versus-a-copy\n",
      "  df_1[i][j][j]=df_1[i][j][j]*beam_pattern[j,i,found_common[i,j]]\n"
     ]
    }
   ],
   "source": [
    "#########  Create dataframes for the FOV for each pixel position of the satellite at different altitudes #######\n",
    "\n",
    "\n",
    "\n",
    "######--- Initializing the array to store the dataframes for the FOV for each pixel position of the satellite #####\n",
    "######            at different altitudes   ######\n",
    "\n",
    "\n",
    "df_1=np.zeros((len(found_common),len(Rad_of_FOV)),dtype=object)\n",
    "\n",
    "for j in range(len(Rad_of_FOV)):\n",
    "    for i in range(len(found_common)):\n",
    "        df_1[i][j]= df_data.loc[df_data['Pixel_number'].isin(found_common[i][j])]\n",
    "        df_1[i][j][j]=df_1[i][j][j]*beam_pattern[j,i,found_common[i,j]]\n",
    "       # df_1[i][j]['Rx_Power in Watt at 3795 km']=df_1[i][j]['Rx_Power in Kelvin at 3795 km']*beam_pattern[i,found_common[i,j]]\n",
    "       # df_1[i][j]['Rx_Power in Watt at 36000 km']=df_1[i][j]['Rx_Power in Kelvin at 36000 km']*beam_pattern[i,found_common[i,j]]\n",
    "        df_1[i][j]= df_1[i][j].groupby(['New Frequency']).sum()  # df9['Pixel_number']= Column consisting of \n",
    "        df_1[i][j]= df_1[i][j].reset_index() "
   ]
  },
  {
   "cell_type": "code",
   "execution_count": 96,
   "id": "9ff3c325",
   "metadata": {},
   "outputs": [],
   "source": [
    "## Initializing the 3D array to store the received power for each pixel, each frequency and at different altitudes ###\n",
    "\n",
    "power_output=np.zeros((len(Rad_of_FOV),NPIX,len(freq)))#,dtype=object)\n"
   ]
  },
  {
   "cell_type": "code",
   "execution_count": 97,
   "id": "1d2347f4",
   "metadata": {},
   "outputs": [],
   "source": [
    "## Create the 3D array to store the received power for each pixel, each frequency and at different altitudes ##\n",
    "## k: loops along the length of the number of altitude\n",
    "## m: loops along the length of the number of pixels based on the given NSIDE\n",
    "## l: loops along the length of the number of frequencies in the frequency axis defined by user\n",
    "\n",
    "\n",
    "\n",
    "for k in range(len(Rad_of_FOV)):\n",
    "    for m in range(NPIX):    \n",
    "        for l in range(len(freq)):\n",
    "            if (df_1[m][k][k][df_1[m][k]['New Frequency'] == freq[l]].values).size==0:# checking for empty dataframes\n",
    "                power_output[k][m][l]=0\n",
    "            else: \n",
    "                power_output[k][m][l]=float(df_1[m][k][k][df_1[m][k]['New Frequency'] == freq[l]].values)\n",
    "logging.info(\"3D Power cube generated\")      "
   ]
  },
  {
   "cell_type": "code",
   "execution_count": 98,
   "id": "d3627876",
   "metadata": {},
   "outputs": [],
   "source": [
    "test = h5py.File(\"testfile.hdf5\", \"w\")\n",
    "dset1 = test.create_dataset(\"Received_power\", data=power_output)\n",
    "dset2 = test.create_dataset(\"Frequency\", data=freq)\n",
    "dset3 = test.create_dataset(\"Altitude\", data=altitude)\n",
    "#dset4  = test.create_dataset(\"NSIDE\", data=nside)\n",
    "dset5 = test.create_dataset(\"History\", data='This is just a test with hard coded values')\n",
    "test.close()"
   ]
  },
  {
   "cell_type": "code",
   "execution_count": 99,
   "id": "8007d98e",
   "metadata": {},
   "outputs": [],
   "source": [
    "test_plot00 = np.zeros(hp.nside2npix(nside))\n",
    "test_plot00[0:np.size(power_output[0,:,6])] = power_output[0,:,6]\n",
    "hp.mollview(test_plot00,cmap='inferno',unit=\"in Kelvin\",title=\"Mollweide projection at an altitude 400 km for Received power in Kelvin at 90 MHz\",flip='geo',norm='hist')#,cb_orientation=\"vertical\",title=\"Mollweide projection for Received power in Kelvin at 88.9MHz\",flip='g')\n",
    "hp.graticule()\n",
    "plt.savefig('Map_400_at_90.png')\n",
    "plt.close()\n",
    "logging.info(\"Plot for alt 400 at 90 generated \")"
   ]
  },
  {
   "cell_type": "code",
   "execution_count": 100,
   "id": "0062246b",
   "metadata": {},
   "outputs": [],
   "source": [
    "test_plot01 = np.zeros(hp.nside2npix(nside))\n",
    "test_plot01[0:np.size(power_output[len(altitude)-1,:,6])] = power_output[len(altitude)-1,:,6]\n",
    "hp.mollview(test_plot01,cmap='inferno',unit=\"in Kelvin\",title=\"Mollweide projection at highest altitude in km for Received power in Kelvin at 90 MHz\",flip='geo',norm='hist')#,cb_orientation=\"vertical\",title=\"Mollweide projection for Received power in Kelvin at 88.9MHz\",flip='g')\n",
    "hp.graticule()\n",
    "plt.savefig('Map_highest_alt_at_90.png')\n",
    "plt.close()\n",
    "logging.info(\"Plot for highest alt at 90 generated \")"
   ]
  },
  {
   "cell_type": "code",
   "execution_count": 101,
   "id": "b5f010db",
   "metadata": {},
   "outputs": [],
   "source": [
    "logging.info(\"Finished Run\")\n",
    "logging.shutdown()"
   ]
  },
  {
   "cell_type": "code",
   "execution_count": null,
   "id": "459d3b8f",
   "metadata": {},
   "outputs": [],
   "source": []
  }
 ],
 "metadata": {
  "kernelspec": {
   "display_name": "Python 3",
   "language": "python",
   "name": "python3"
  },
  "language_info": {
   "codemirror_mode": {
    "name": "ipython",
    "version": 3
   },
   "file_extension": ".py",
   "mimetype": "text/x-python",
   "name": "python",
   "nbconvert_exporter": "python",
   "pygments_lexer": "ipython3",
   "version": "3.8.8"
  }
 },
 "nbformat": 4,
 "nbformat_minor": 5
}

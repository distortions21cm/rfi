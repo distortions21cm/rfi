{
 "cells": [
  {
   "cell_type": "code",
   "execution_count": null,
   "id": "90dc6213",
   "metadata": {},
   "outputs": [],
   "source": [
    "######## Importing the necessary libraries #########\n",
    "\n",
    "\n",
    "import pandas as pd\n",
    "import numpy as np\n",
    "import healpy as hp\n",
    "import matplotlib.pyplot as plt\n",
    "from astropy.constants import c, k_B,R_earth\n",
    "\n",
    "\n",
    "%matplotlib inline   "
   ]
  },
  {
   "cell_type": "code",
   "execution_count": null,
   "id": "832845c5",
   "metadata": {},
   "outputs": [],
   "source": [
    "##### Reading the FM transmitter data for the countries: CANADA, AUSTRALIA ,GERMANY,USA and SOUTH AFRICA ####\n",
    "#####  EIRP in Watts #####\n",
    "##### Latitude ranges from 90(N.Pole) to 0 (EQUATOR) to -90(S.Pole) ########\n",
    "##### Longitude ranges between 0 and 360 degree eastwards ############\n",
    "\n",
    "\n",
    "#Reading the CSV file\n",
    "df=pd.read_csv(\"/home/ghoshsonia/rfi_RRI/Final_Revised.csv\")\n",
    "\n",
    "#Removing the Null/missing values in the CSV file\n",
    "df.dropna(subset = [\"Latitude in degrees\"], inplace=True)\n"
   ]
  },
  {
   "cell_type": "code",
   "execution_count": null,
   "id": "fdf8600f",
   "metadata": {},
   "outputs": [],
   "source": [
    "###### User defined frequency range ######################\n",
    "###### For our code the frequency range is 56MHz-109 MHz with a sampling of 61KHz =0.061 MHz #######\n",
    "\n",
    "\n",
    "def get_non_negative_int(prompt):\n",
    "    while True:\n",
    "        try:\n",
    "            value = float(input(prompt))\n",
    "        except ValueError:\n",
    "            print(\"There is an error in the input.\")\n",
    "            continue\n",
    "\n",
    "        if value<=0:\n",
    "            print(\"There is an error in the input.The input cannot be zero or negative\")\n",
    "       # elif value<0:\n",
    "        #    print(\"The input must not be negative.\")\n",
    "            continue\n",
    "        else:\n",
    "            break\n",
    "    return value\n",
    "\n",
    "fstart = get_non_negative_int(\"Please enter the minimum value of the frequency range: \")\n",
    "fstop = get_non_negative_int(\"Please enter the maximum value of the frequency range: \")\n",
    "fres=get_non_negative_int(\"Please enter the resolution of the frequency: \")\n"
   ]
  },
  {
   "cell_type": "code",
   "execution_count": null,
   "id": "366d34ac",
   "metadata": {},
   "outputs": [],
   "source": [
    "###creating the user defined frequency axis #####\n",
    "\n",
    "freq_rfi=np.arange(fstart,fstop,fres)\n",
    "\n",
    "\n",
    "%store freq_rfi     \n",
    "    \n",
    "    \n",
    "#### Array consisting of frequencies from the dataset\n",
    "data_freq=df['Frequency(MHz)'].values\n",
    "\n",
    "diff=np.zeros((len(data_freq),len(freq_rfi)),dtype=object)\n",
    "freq_arr=np.zeros(len(data_freq))\n",
    "\n",
    "\n",
    "for i in range(len(data_freq)):\n",
    "    for j in range(len(freq_rfi)):\n",
    "        diff[i][j]=abs(data_freq[i]-freq_rfi[j])\n",
    "        freq_arr[i]=freq_rfi[np.argmin(diff[i])]\n",
    "\n",
    "        \n",
    "##### Create column to store the new frequencies based on the user defined frequency axis #####\n",
    "df['New Frequency']=freq_arr"
   ]
  },
  {
   "cell_type": "code",
   "execution_count": null,
   "id": "0ab24257",
   "metadata": {},
   "outputs": [],
   "source": [
    "########## --------------Resolution of the map----------------########\n",
    "\n",
    "\n",
    "print('-----------Resolution of the map---------') \n",
    "nside = 16\n",
    "print(f\"The number of pixels for the given NSIDE: {(hp.nside2npix(nside))}\")\n",
    "print(f\"Approximate resolution in degrees for given nside {np.degrees(hp.nside2resol(nside)):.2f}\")\n",
    "print( \"Pixel area: %.2f square degrees\" % hp.nside2pixarea(nside, degrees=True))\n",
    "\n"
   ]
  },
  {
   "cell_type": "code",
   "execution_count": null,
   "id": "a90dfe7f",
   "metadata": {},
   "outputs": [],
   "source": [
    "\n",
    "######-------------------Allocating Pixel number to the Latitude and Longitude of each Tx in the CSV---------#######\n",
    "\n",
    "\n",
    "\n",
    "# Healpy pixel number when input angles are assumed to be longitude and latitude in degrees\n",
    "pixel_indices = hp.ang2pix(nside, df['Longitude in degrees'].to_numpy() ,df['Latitude in degrees'].to_numpy(),lonlat=True)\n",
    "df['Pixel_number']=pixel_indices \n",
    "\n",
    "\n",
    "df"
   ]
  },
  {
   "cell_type": "code",
   "execution_count": null,
   "id": "a2cb13a9",
   "metadata": {},
   "outputs": [],
   "source": [
    "###### Check for pixel number for a given pair of latitude and longitude in degrees ####\n",
    "###### Pixel numbers based on NSIDE=16 ########\n",
    "### Germany(51.1657,10.4515)= 313, Australia(-25.2744,133.7751)=2167, Hanle(32.81302, 78.87130)= 686\n",
    "\n",
    "\n",
    "pixie = hp.ang2pix(nside,78.871,32.81 ,lonlat=True)\n",
    "pixie\n",
    "\n",
    "\n"
   ]
  },
  {
   "cell_type": "code",
   "execution_count": null,
   "id": "720296f1",
   "metadata": {},
   "outputs": [],
   "source": [
    "#######---------------Conversion of the pixel numbers w.r.t the given NSIDE to corresponding angular coordinates--------#######\n",
    "\n",
    "\n",
    "NPIX = hp.nside2npix(nside) # Storing the number of pixels of the map corresponding to the given NSIDE\n",
    "arr=np.arange(NPIX) #Create an an array of pixel numbers with respect to the NSIDE\n",
    "\n",
    "phi,theta = (hp.pix2ang(nside, ipix=arr,lonlat=True)) # Array of the angular coordinates co-latitude(theta) \n",
    "                                                        #and longitude(phi) in degrees \n",
    "                                                       # With respect to the given NSIDE\n"
   ]
  },
  {
   "cell_type": "code",
   "execution_count": null,
   "id": "866466b1",
   "metadata": {},
   "outputs": [],
   "source": [
    "#######------------------Altitudes of the satellite orbit--------####\n",
    "\n",
    "\n",
    "#Creating user defined data points between 400 km to 36000 km in log scale\n",
    "data_point=int(input(\"Enter number of data points : \"))\n",
    "altitude= np.logspace(np.log10(400),np.log10(36000),data_point) \n",
    "print(altitude)\n"
   ]
  },
  {
   "cell_type": "code",
   "execution_count": null,
   "id": "80d20574",
   "metadata": {},
   "outputs": [],
   "source": [
    "#Calculation of Elevation angle\n",
    "\n",
    "x_ang=np.zeros((NPIX,NPIX))\n",
    "y_ang=np.zeros((NPIX,NPIX))\n",
    "elev_ang=np.zeros((len(altitude),NPIX,NPIX))\n",
    "R_E=R_earth.to('km').value\n",
    "for k in range(len(altitude)):\n",
    "    for i in range(len(theta)):\n",
    "        for j in range(len(theta)):\n",
    "        \n",
    "            x_ang[i,j]=((np.cos(np.radians(theta[i])))*(np.cos(np.radians(theta[j])))*(np.cos(np.radians(phi[j]-phi[i])))+(np.sin(np.radians(theta[i])))*(np.sin(np.radians(theta[j]))))\n",
    "            y_ang[i,j]=(np.arccos(x_ang[i,j]))\n",
    "            B=(altitude[k]+R_E)/R_E\n",
    "            elev_ang[k,i,j]=-(np.degrees(np.arctan((B-np.cos(np.radians(y_ang[i,j])))/np.sin(np.radians(y_ang[i,j]))))-y_ang[i,j])"
   ]
  },
  {
   "cell_type": "code",
   "execution_count": null,
   "id": "a04f5644",
   "metadata": {},
   "outputs": [],
   "source": [
    "%store elev_ang"
   ]
  },
  {
   "cell_type": "code",
   "execution_count": null,
   "id": "812d792f",
   "metadata": {},
   "outputs": [],
   "source": [
    "####To check for max/min value of the array eliminating the nan values #####\n",
    "\n",
    "np.max(elev_ang[1,:,:][np.logical_not(np.isnan(elev_ang[1,:,:]))])"
   ]
  },
  {
   "cell_type": "code",
   "execution_count": null,
   "id": "5a9371b8",
   "metadata": {},
   "outputs": [],
   "source": [
    "plt.imshow(elev_ang[0,:,:])# 400km # with phi=100\n",
    "plt.colorbar()"
   ]
  },
  {
   "cell_type": "code",
   "execution_count": null,
   "id": "32f8a560",
   "metadata": {},
   "outputs": [],
   "source": [
    "df_el.iloc[0]\n",
    "pixel_ind2 = np.where(df_el.iloc[0]<0)\n",
    "print(pixel_ind2)"
   ]
  },
  {
   "cell_type": "code",
   "execution_count": null,
   "id": "372b84c2",
   "metadata": {},
   "outputs": [],
   "source": [
    "# Function for Radiation pattern of the satellite antenna beam #\n",
    "\n",
    "beam = lambda theta, phi:(np.cos(np.radians(theta)))**2                              # (np.sin(np.radians(theta)))**2"
   ]
  },
  {
   "cell_type": "code",
   "execution_count": null,
   "id": "d1304813",
   "metadata": {},
   "outputs": [],
   "source": [
    "# Assuming the satellite antenna beam to be symmetric across azimuth #\n",
    "# Calculation of the beam pattern #\n",
    "\n",
    "az=0\n",
    "#beam_pattern = beam(elev_ang,az)\n",
    "#beam_pattern =np.resize(beam_pattern,(np.size(theta),np.size(theta)))"
   ]
  },
  {
   "cell_type": "code",
   "execution_count": null,
   "id": "adccab72",
   "metadata": {},
   "outputs": [],
   "source": [
    "###########----------------- Calculation of Field of view of the satellite---------#######\n",
    "###########-----------------Considering Nadir-pointing Field of View Geometry-------######\n",
    "##########-----------------Considering the FOV of the satellite to be tangent to the surface of the Earth------######\n",
    "\n",
    "\n",
    "FOV=np.zeros(len(altitude))\n",
    "for i in range(0,len(altitude)):\n",
    "# Consider a case of full coverage under elevation of 0 º\n",
    "    #Rad= 6371 # Mean radius of Earth in km\n",
    "    FOV[i]= 2*np.arcsin(R_E/(R_E+ altitude[i]))  # Field of view for maximal coverage in radians when elevation is 0 º \n",
    "    print(\" The Field of view of the satellite at a height of\",altitude[i],\"km is\",FOV[i], \"radians\")"
   ]
  },
  {
   "cell_type": "code",
   "execution_count": null,
   "id": "5482a0a9",
   "metadata": {},
   "outputs": [],
   "source": [
    "###########----------------- Calculation of the radius of the FOV of the satellite---------#######\n",
    "\n",
    "\n",
    "\n",
    "# The surface of the coverage area of the Earth depends on the central angle\n",
    "Central_angle=np.zeros(len(altitude))\n",
    "for i in range(0,len(altitude)):\n",
    "    Central_angle[i]=np.arccos(R_E/(R_E+altitude[i])) # Central angle in radians\n",
    "    \n",
    "    Dia_of_FOV=2*Central_angle*R_E  # Diameter of the FOV (disc on the Earth's surface)in km\n",
    "    Rad_of_FOV= Dia_of_FOV/2 # Radius of the FOV in km\n",
    "    Rad_of_FOV=Rad_of_FOV/R_E  # Radius of the FOV in Radians\n",
    "    print(\" The Radius of the Field of View for a height of\",altitude[i],\"km in radians is\",Rad_of_FOV[i])\n",
    "len(Rad_of_FOV)"
   ]
  },
  {
   "cell_type": "code",
   "execution_count": null,
   "id": "d7e71e86",
   "metadata": {},
   "outputs": [],
   "source": [
    "90-np.degrees(Central_angle[0]) # Max observable latitude at 400km"
   ]
  },
  {
   "cell_type": "code",
   "execution_count": null,
   "id": "446b2ad6",
   "metadata": {},
   "outputs": [],
   "source": [
    "90-np.degrees(Central_angle[1]) # Max observable latitude at 36000km"
   ]
  },
  {
   "cell_type": "code",
   "execution_count": null,
   "id": "2135cb84",
   "metadata": {},
   "outputs": [],
   "source": [
    "90-np.degrees(FOV[0]) # Elevation angle w.r.t geometric FOV at 400km"
   ]
  },
  {
   "cell_type": "code",
   "execution_count": null,
   "id": "32ec8295",
   "metadata": {},
   "outputs": [],
   "source": [
    "90-np.degrees(FOV[1]) # Elevation angle w.r.t geometric FOV at 36000km"
   ]
  },
  {
   "cell_type": "code",
   "execution_count": null,
   "id": "9654f3fd",
   "metadata": {},
   "outputs": [],
   "source": [
    "###############-----Storing indices of the pixel number that are inside the circle/disc(FOV) wrt the altitude-----------######\n",
    "\n",
    "\n",
    "vec1 = hp.ang2vec(phi,theta,lonlat=True) #Using ang2vec convert angles that is co-latitude and longitude in radians\n",
    "                                        #to 3D position vector\n",
    "    \n",
    "disc=np.zeros((len(arr),len(Rad_of_FOV)),dtype=object)#Array of indices of the pixel number that are inside the \n",
    "                                                      #circle/disc specified by vec and radius\n",
    "def pixel_disc(a,b):\n",
    "    for i in range(len(a)):\n",
    "        for j in range(len(b)):\n",
    "            disc[j][i]=hp.query_disc(nside, vec1[j], radius=a[i])\n",
    "pixel_disc(Rad_of_FOV,arr)"
   ]
  },
  {
   "cell_type": "code",
   "execution_count": null,
   "id": "0ddb196b",
   "metadata": {},
   "outputs": [],
   "source": [
    "#########------- Cross checking the array being created-----#########\n",
    "\n",
    "df1 = pd.DataFrame(disc)\n",
    "df1"
   ]
  },
  {
   "cell_type": "code",
   "execution_count": null,
   "id": "b522ae35",
   "metadata": {},
   "outputs": [],
   "source": [
    "######-----Storing indices of the pixel number that are common between the FOV disc and the satellite pixel no------####\n",
    "\n",
    "\n",
    "Comm_pix=np.zeros((len(disc[:,i]),len(Rad_of_FOV)),dtype=object)\n",
    "\n",
    "for i in range(len(Rad_of_FOV)):\n",
    "    for k in range(len(disc[:,i])):\n",
    "     \n",
    "\n",
    "         Comm_pix[k][i]=np.intersect1d(pixel_indices,disc[k][i])#Array of indices of the pixel number that are\n",
    "                                                           #common between the FOV disc and the satellite pixel no\n",
    "         \n",
    "        "
   ]
  },
  {
   "cell_type": "code",
   "execution_count": null,
   "id": "8e33fedd",
   "metadata": {},
   "outputs": [],
   "source": [
    "#########------- Cross checking the array being created-----#########\n",
    "\n",
    "\n",
    "df2 = pd.DataFrame(Comm_pix)\n",
    "df2"
   ]
  },
  {
   "cell_type": "code",
   "execution_count": null,
   "id": "bf4f254a",
   "metadata": {},
   "outputs": [],
   "source": [
    "######-----Storing indices of the pixel number that are common between the FOV disc and the satellite pixel no ------#\n",
    "######-----And the same pixel number of the transmitters-----##\n",
    "\n",
    "\n",
    "\n",
    "######--- Initializing the array to store the pixel number that are common between the FOV disc ---####\n",
    "######                        and the satellite pixel no    ######\n",
    "Comm_TX=np.zeros((len(Comm_pix),len(Rad_of_FOV)),dtype=object)\n",
    "found_common=np.zeros(( len(Comm_pix),len(Rad_of_FOV)),dtype=object)\n",
    "\n",
    "for j in range(len(Rad_of_FOV)):\n",
    "    for i in range(len(Comm_pix)):\n",
    "        \n",
    "        Comm_TX[i][j]=set(Comm_pix[i][j])\n",
    "        found_common[i][j] = [l for l in pixel_indices if l in Comm_TX[i][j]]#Array of indices of the pixel number that \n",
    "                                            #are common between the FOV disc and the satellite pixel no with\n",
    "                                                    # Tx having same pixel number\n",
    "                                                                       \n",
    "         "
   ]
  },
  {
   "cell_type": "code",
   "execution_count": null,
   "id": "3e2565bb",
   "metadata": {},
   "outputs": [],
   "source": [
    "#########------- Cross checking the array being created-----#########\n",
    "\n",
    "df3 = pd.DataFrame(found_common)\n",
    "df3"
   ]
  },
  {
   "cell_type": "code",
   "execution_count": null,
   "id": "5d4679d2",
   "metadata": {},
   "outputs": [],
   "source": [
    "#x=np.asarray(Comm_pix[313][0])\n",
    "\n",
    "\n",
    "#Array of indices of the pixel number that are inside the FOV\n",
    "xx=disc[2167][0]  # FOr Australia at an altitude of 400 km\n",
    "xx1=disc[2167][1]  # FOr Australia at an altitude of 36000 km\n",
    "xx2=disc[313][0]   # FOr Germany at an altitude of 400 km\n",
    "xx3=disc[313][1]  # FOr Germany at an altitude of 36000 km\n",
    "xx4=disc[686][0]  # FOr Hanle at an altitude of 400 km\n",
    "xx5=disc[686][1]   # FOr Hanle at an altitude of 36000 km\n"
   ]
  },
  {
   "cell_type": "code",
   "execution_count": null,
   "id": "60402591",
   "metadata": {},
   "outputs": [],
   "source": [
    "y=beam(elev_ang[0,2167,xx],az)\n",
    "y1=beam(elev_ang[1,2167,xx1],az)\n",
    "y2=beam(elev_ang[0,313,xx2],az)\n",
    "y3=beam(elev_ang[1,313,xx3],az)\n",
    "y4=beam(elev_ang[0,686,xx4],az)\n",
    "y5=beam(elev_ang[1,686,xx5],az)\n",
    "\n",
    "#y2=beam_pattern[686,x2]\n",
    "#y3=beam_pattern[686,x3]"
   ]
  },
  {
   "cell_type": "code",
   "execution_count": null,
   "id": "31c56374",
   "metadata": {},
   "outputs": [],
   "source": [
    "data= np.zeros(hp.nside2npix(nside))\n",
    "data1= np.zeros(hp.nside2npix(nside))\n",
    "data2= np.zeros(hp.nside2npix(nside))\n",
    "data3= np.zeros(hp.nside2npix(nside))\n",
    "data4= np.zeros(hp.nside2npix(nside))\n",
    "data5= np.zeros(hp.nside2npix(nside))\n",
    "point=np.arange(len(xx))\n",
    "#data[0:np.size(arr[0:1499])]=arr[0:1499]\n",
    "data[xx]=y\n",
    "data1[xx1]=y1\n",
    "data2[xx2]=y2\n",
    "data3[xx3]=y3\n",
    "data4[xx4]=y4\n",
    "data5[xx5]=y5\n"
   ]
  },
  {
   "cell_type": "code",
   "execution_count": null,
   "id": "21fa66b1",
   "metadata": {},
   "outputs": [],
   "source": [
    "##### FOV with beam weight for a satellite overhead a particular location #####\n",
    "###### Tx database and power has not yet been taken into account ######3\n",
    "\n",
    "hp.mollview(data,flip='geo')\n",
    "hp.mollview(data1,flip='geo')\n",
    "hp.mollview(data2,flip='geo')\n",
    "hp.mollview(data3,flip='geo')\n",
    "hp.mollview(data4,flip='geo')\n",
    "hp.mollview(data5,flip='geo')\n",
    "\n",
    "\n",
    "hp.graticule()"
   ]
  },
  {
   "cell_type": "code",
   "execution_count": null,
   "id": "f9368ae0",
   "metadata": {},
   "outputs": [],
   "source": [
    "##### FOV with beam weight for a satellite overhead a particular location #####\n",
    "###### Tx database and power has not yet been taken into account ######\n",
    "###### For sin^2 theta ######\n",
    "    \n",
    "    \n",
    "hp.mollview(data,flip='geo',min=0.9991496193584278)\n",
    "hp.mollview(data1,flip='geo',min=0.9991496193584278)\n",
    "hp.mollview(data2,flip='geo',min=0.9991496193584278)\n",
    "hp.mollview(data3,flip='geo',min=0.9991496193584278)\n",
    "hp.mollview(data4,flip='geo',min=0.9991496193584278)\n",
    "hp.mollview(data5,flip='geo',min=0.9991496193584278)\n",
    "\n",
    "\n",
    "hp.graticule()"
   ]
  },
  {
   "cell_type": "code",
   "execution_count": null,
   "id": "bd393f85",
   "metadata": {},
   "outputs": [],
   "source": [
    "#Array of indices of the pixel number that are common to the FOV and TX database\n",
    "x=Comm_pix[2167][0]  # FOr Australia at an altitude of 400 km\n",
    "x1=Comm_pix[2167][1]  # FOr Australia at an altitude of 36000 km\n",
    "x2=Comm_pix[313][0]   # FOr Germany at an altitude of 400 km\n",
    "x3=Comm_pix[313][1]  # FOr Germany at an altitude of 36000 km\n",
    "x4=Comm_pix[686][0]  # FOr Hanle at an altitude of 400 km\n",
    "x5=Comm_pix[686][1]   # FOr Hanle at an altitude of 36000 km\n",
    "\n",
    "yy=beam(elev_ang[0,2167,x],az)\n",
    "yy1=beam(elev_ang[1,2167,x1],az)\n",
    "yy2=beam(elev_ang[0,313,x2],az)\n",
    "yy3=beam(elev_ang[1,313,x3],az)\n",
    "yy4=beam(elev_ang[0,686,x4],az)\n",
    "yy5=beam(elev_ang[1,686,x5],az)\n",
    "\n",
    "d= np.zeros(hp.nside2npix(nside))\n",
    "d1= np.zeros(hp.nside2npix(nside))\n",
    "d2= np.zeros(hp.nside2npix(nside))\n",
    "d3= np.zeros(hp.nside2npix(nside))\n",
    "d4= np.zeros(hp.nside2npix(nside))\n",
    "d5= np.zeros(hp.nside2npix(nside))\n",
    "#point=np.arange(len(xx))\n",
    "#data[0:np.size(arr[0:1499])]=arr[0:1499]\n",
    "d[x]=yy\n",
    "d1[x1]=yy1\n",
    "d2[x2]=yy2\n",
    "d3[x3]=yy3\n",
    "d4[x4]=yy4\n",
    "d5[x5]=yy5\n"
   ]
  },
  {
   "cell_type": "code",
   "execution_count": null,
   "id": "8372b668",
   "metadata": {},
   "outputs": [],
   "source": [
    "\n",
    "hp.mollview(d,flip='geo')\n",
    "hp.mollview(d1,flip='geo')\n",
    "hp.mollview(d2,flip='geo')\n",
    "hp.mollview(d3,flip='geo')\n",
    "hp.mollview(d4,flip='geo')\n",
    "hp.mollview(d5,flip='geo')\n",
    "\n",
    "\n",
    "hp.graticule()"
   ]
  },
  {
   "cell_type": "code",
   "execution_count": null,
   "id": "e7ada8e9",
   "metadata": {},
   "outputs": [],
   "source": [
    "#######-------Store the values of the received power in Watt,dBm and Kelvin wrt altitude----#####\n",
    "######------- Calculation of the received power using Friis Transmission Equation--------#######\n",
    "######-------Considering isotropic transmitter and receiver with gain =1 -------------#########\n",
    "\n",
    "\n",
    "\n",
    "\n",
    "\n",
    "#res=fres*1e6 #Bandwidth\n",
    "res=200*1e3\n",
    "Rx_Power= np.zeros((len(df),len(altitude)))\n",
    "Rx_Power_in_Kelvin=np.zeros((len(df),len(altitude)))\n",
    "Rx_Power_in_dBm=np.zeros((len(df),len(altitude)))\n",
    "for i in range(0,len(altitude)):\n",
    "    for j in range(0,len(df)):\n",
    "        wavelength= c.value/(df.iloc[j]['Frequency(MHz)']*1e6)\n",
    "        Rx_Power[j][i]= ((df.iloc[j]['EIRP'])*(wavelength)**2)/(4*np.pi*altitude[i]*1e3)**2 #the Friis Transmission Equation\n",
    "        Rx_Power_in_dBm[j][i]= 10.*np.log10( Rx_Power[j][i])+30\n",
    "        Rx_Power_in_Kelvin[j][i]=Rx_Power[j][i]/(k_B.value*res)#in Kelvin\n",
    "        \n",
    "\n",
    "       "
   ]
  },
  {
   "cell_type": "code",
   "execution_count": null,
   "id": "e5366c1b",
   "metadata": {},
   "outputs": [],
   "source": [
    "##### ---Create dataframe to store the values of the received power in dBm w.r.t the altitude----#####\n",
    "df_data_db=pd.DataFrame(Rx_Power_in_dBm)\n",
    "df_data_db['Pixel_number']=pixel_indices\n",
    "df_data_db['New Frequency']=freq_arr\n",
    "df_data_db\n"
   ]
  },
  {
   "cell_type": "code",
   "execution_count": null,
   "id": "3077ec7b",
   "metadata": {},
   "outputs": [],
   "source": [
    "##### ---Create dataframe to store the values of the received power in Kelvin w.r.t the altitude----#####\n",
    "\n",
    "##### The first three columns of the dataframe indicate the altitude [0=400 km, 1= 3794 km , 2= 36000 km ] #####\n",
    "##### The column will vary with the user input for the number of altitudes ######\n",
    "\n",
    "df_data=pd.DataFrame(Rx_Power_in_Kelvin)\n",
    "\n",
    "df_data['Pixel_number']=pixel_indices\n",
    "df_data['New Frequency']=freq_arr\n",
    "\n",
    "\n",
    "df_data"
   ]
  },
  {
   "cell_type": "code",
   "execution_count": null,
   "id": "da6cd90f",
   "metadata": {},
   "outputs": [],
   "source": [
    "#########  Create dataframes for the FOV for each pixel position of the satellite at different altitudes #######\n",
    "\n",
    "\n",
    "\n",
    "######--- Initializing the array to store the dataframes for the FOV for each pixel position of the satellite #####\n",
    "######            at different altitudes   ######\n",
    "\n",
    "\n",
    "df_1=np.zeros((len(found_common),len(Rad_of_FOV)),dtype=object)\n",
    "\n",
    "for j in range(len(Rad_of_FOV)):\n",
    "    for i in range(len(found_common)):\n",
    "        df_1[i][j]= df_data.loc[df_data['Pixel_number'].isin(found_common[i][j])]\n",
    "        #df_1[i][j][j]=df_1[i][j][j]*beam_pattern[j,i,found_common[i,j]]\n",
    "        df_1[i][j]= df_1[i][j].groupby(['New Frequency']).sum()  # df9['Pixel_number']= Column consisting of \n",
    "        df_1[i][j]= df_1[i][j].reset_index() \n",
    "        \n",
    "       \n",
    "#df_1.drop['Pixel_number']"
   ]
  },
  {
   "cell_type": "code",
   "execution_count": null,
   "id": "bc64824a",
   "metadata": {},
   "outputs": [],
   "source": [
    "df_1[313][0]"
   ]
  },
  {
   "cell_type": "code",
   "execution_count": null,
   "id": "9ff3c325",
   "metadata": {},
   "outputs": [],
   "source": [
    "## Initializing the 3D array to store the received power for each pixel, each frequency and at different altitudes ###\n",
    "\n",
    "power_output=np.zeros((len(Rad_of_FOV),NPIX,len(freq)),dtype=object)\n"
   ]
  },
  {
   "cell_type": "code",
   "execution_count": null,
   "id": "1d2347f4",
   "metadata": {},
   "outputs": [],
   "source": [
    "## Create the 3D array to store the received power for each pixel, each frequency and at different altitudes ##\n",
    "## k: loops along the length of the number of altitude\n",
    "## m: loops along the length of the number of pixels based on the given NSIDE\n",
    "## l: loops along the length of the number of frequencies in the frequency axis defined by user\n",
    "\n",
    "\n",
    "\n",
    "for k in range(len(Rad_of_FOV)):\n",
    "    for m in range(NPIX):    \n",
    "        for l in range(len(freq_rfi)):\n",
    "            if (df_1[m][k][k][df_1[m][k]['New Frequency'] == freq_rfi[l]].values).size==0:# checking for empty dataframes\n",
    "                power_output[k][m][l]=0\n",
    "            else: \n",
    "                power_output[k][m][l]=float(df_1[m][k][k][df_1[m][k]['New Frequency'] == freq_rfi[l]].values)\n",
    "           \n",
    "        "
   ]
  },
  {
   "cell_type": "code",
   "execution_count": null,
   "id": "ab01e2ac",
   "metadata": {},
   "outputs": [],
   "source": [
    "%store power_output"
   ]
  },
  {
   "cell_type": "code",
   "execution_count": null,
   "id": "90ed1584",
   "metadata": {},
   "outputs": [],
   "source": [
    "power_output[1,2167,:]\n"
   ]
  },
  {
   "cell_type": "code",
   "execution_count": null,
   "id": "61f4294e",
   "metadata": {},
   "outputs": [],
   "source": [
    "power_output[1,arr!=313,:]=0"
   ]
  },
  {
   "cell_type": "code",
   "execution_count": null,
   "id": "b9fb16e6",
   "metadata": {},
   "outputs": [],
   "source": [
    "plt.bar(freq,power_output[0,313,:]) \n",
    "plt.xlabel('Frequency [in MHz]')\n",
    "plt.ylabel('Temperature equivalent of RFI [in Kelvin]')\n",
    "plt.suptitle('Power spectrum for GERMANY at an altitude of 400 km',fontsize=14, fontweight=\"bold\")"
   ]
  },
  {
   "cell_type": "code",
   "execution_count": null,
   "id": "97b0c44b",
   "metadata": {},
   "outputs": [],
   "source": [
    "plt.bar(freq,power_output[1,313,:]) \n",
    "plt.xlabel('Frequency [in MHz]')\n",
    "plt.ylabel('Temperature equivalent of RFI [in Kelvin]')\n",
    "plt.suptitle('Power spectrum for GERMANY at an altitude of 36000 km',fontsize=14, fontweight=\"bold\")"
   ]
  },
  {
   "cell_type": "code",
   "execution_count": null,
   "id": "9a6898bb",
   "metadata": {},
   "outputs": [],
   "source": [
    "plt.bar(freq,power_output[0,686,:]) \n",
    "plt.xlabel('Frequency [in MHz]')\n",
    "plt.ylabel('Temperature equivalent of RFI [in Kelvin]')\n",
    "plt.suptitle('Power spectrum for HANLE at an altitude of 400 km',fontsize=14, fontweight=\"bold\")"
   ]
  },
  {
   "cell_type": "code",
   "execution_count": null,
   "id": "4650b48e",
   "metadata": {},
   "outputs": [],
   "source": [
    "plt.bar(freq,power_output[1,686,:]) \n",
    "plt.xlabel('Frequency [in MHz]')\n",
    "plt.ylabel('Temperature equivalent of RFI [in Kelvin]')\n",
    "plt.suptitle('Power spectrum for HANLE at an altitude of 36000 km',fontsize=14, fontweight=\"bold\")"
   ]
  },
  {
   "cell_type": "code",
   "execution_count": null,
   "id": "39e9b4f0",
   "metadata": {},
   "outputs": [],
   "source": [
    "\n",
    "plt.bar(freq,power_output[1,2167,:]) \n",
    "plt.xlabel('Frequency [in MHz]')\n",
    "plt.ylabel('Temperature equivalent of RFI [in Kelvin]')\n",
    "plt.suptitle('Power spectrum for AUSTRALIA at an altitude of 36000 km',fontsize=14, fontweight=\"bold\")"
   ]
  },
  {
   "cell_type": "code",
   "execution_count": null,
   "id": "208ae2ec",
   "metadata": {},
   "outputs": [],
   "source": [
    "#power_output[0,2167,:]\n",
    "\n",
    "plt.bar(freq,power_output[0,2167,:]) \n",
    "plt.xlabel('Frequency [in MHz]')\n",
    "plt.ylabel('Temperature equivalent of RFI [in Kelvin]')\n",
    "plt.suptitle('Power spectrum for AUSTRALIA at an altitude of 400 km',fontsize=14, fontweight=\"bold\")"
   ]
  },
  {
   "cell_type": "code",
   "execution_count": null,
   "id": "5bad5a58",
   "metadata": {},
   "outputs": [],
   "source": [
    "###-------Plotting of the Healpy Map in mollweide projection------###\n",
    "#####------For an altitude of 400 km at 90 MHz----------------------#######\n",
    "\n",
    "test_plot = np.zeros(hp.nside2npix(nside))\n",
    "test_plot[0:np.size(power_output[0,:,35])] = power_output[0,:,6]\n"
   ]
  },
  {
   "cell_type": "code",
   "execution_count": null,
   "id": "b6518047",
   "metadata": {},
   "outputs": [],
   "source": [
    "freq_rfi[46]"
   ]
  },
  {
   "cell_type": "code",
   "execution_count": null,
   "id": "e742394b",
   "metadata": {},
   "outputs": [],
   "source": [
    "test_plot = np.zeros(hp.nside2npix(nside))\n",
    "test_plot[0:np.size(power_output[0,:,35])] = power_output[0,:,35]\n",
    "hp.mollview(test_plot,cmap='inferno',unit=\"in Kelvin\",title=\"Mollweide projection at an altitude 400 km for Received power in Kelvin at 90.18 MHz\",flip='geo',norm='hist')#,cb_orientation=\"vertical\",title=\"Mollweide projection for Received power in Kelvin at 88.9MHz\",flip='g')\n",
    "hp.graticule()"
   ]
  },
  {
   "cell_type": "code",
   "execution_count": null,
   "id": "8d409cb4",
   "metadata": {},
   "outputs": [],
   "source": [
    "test_plot = np.zeros(hp.nside2npix(nside))\n",
    "test_plot[0:np.size(power_output[0,:,46])] = power_output[0,:,46]\n",
    "hp.mollview(test_plot,cmap='inferno',unit=\"in Kelvin\",title=\"Mollweide projection at an altitude 400 km for Received power in Kelvin at 100.92 MHz\",flip='geo',norm='hist')#,cb_orientation=\"vertical\",title=\"Mollweide projection for Received power in Kelvin at 88.9MHz\",flip='g')\n",
    "hp.graticule()"
   ]
  },
  {
   "cell_type": "code",
   "execution_count": null,
   "id": "d66ac116",
   "metadata": {},
   "outputs": [],
   "source": [
    "test_plot = np.zeros(hp.nside2npix(nside))\n",
    "test_plot[0:np.size(power_output[1,:,46])] = power_output[1,:,46]\n",
    "hp.mollview(test_plot,cmap='inferno',unit=\"in Kelvin\",title=\"Mollweide projection at an altitude 36000 km for Received power in Kelvin at 100.92 MHz\",flip='geo',norm='hist')#,cb_orientation=\"vertical\",title=\"Mollweide projection for Received power in Kelvin at 88.9MHz\",flip='g')\n",
    "hp.graticule()"
   ]
  },
  {
   "cell_type": "code",
   "execution_count": null,
   "id": "07183070",
   "metadata": {},
   "outputs": [],
   "source": [
    "test_plot = np.zeros(hp.nside2npix(nside))\n",
    "test_plot[0:np.size(power_output[1,:,35])] = power_output[1,:,35]\n",
    "hp.mollview(test_plot,cmap='inferno',unit=\"in Kelvin\",title=\"Mollweide projection at an altitude 36000 km for Received power in Kelvin at 90.18 MHz\",flip='geo',norm='hist')#,cb_orientation=\"vertical\",title=\"Mollweide projection for Received power in Kelvin at 88.9MHz\",flip='g')\n",
    "hp.graticule()"
   ]
  },
  {
   "cell_type": "code",
   "execution_count": null,
   "id": "42d2a7cd",
   "metadata": {},
   "outputs": [],
   "source": [
    "m = hp.ma(np.arange(hp.nside2npix(nside), dtype=np.double))\n",
    "#mask = np.zeros(hp.nside2npix(NSIDE), dtype=np.bool)\n",
    "#mask[pixel_theta > np.pi/2] = 1\n",
    "#m.mask = mask\n",
    "#hp.mollview(m)"
   ]
  },
  {
   "cell_type": "code",
   "execution_count": null,
   "id": "98d6fb98",
   "metadata": {},
   "outputs": [],
   "source": [
    "from healpy.newvisufunc import projview, newprojplot"
   ]
  },
  {
   "cell_type": "code",
   "execution_count": null,
   "id": "2b1bfddb",
   "metadata": {},
   "outputs": [],
   "source": []
  },
  {
   "cell_type": "code",
   "execution_count": null,
   "id": "77cca5ed",
   "metadata": {},
   "outputs": [],
   "source": [
    "test_plot0001 = np.zeros(hp.nside2npix(nside))\n",
    "test_plot0001[0:np.size(power_output[0,:,6])] = power_output[0,:,6]\n",
    "hp.mollview(test_plot0001,cmap='inferno',unit=\"in Kelvin\",title=\"Mollweide projection at an altitude 400 km for Received power in Kelvin at 90 MHz\",flip='geo',norm='hist')#xsize=24)#,cb_orientation=\"vertical\",title=\"Mollweide projection for Received power in Kelvin at 88.9MHz\",flip='g')\n",
    "hp.graticule()\n",
    "s = 500\n",
    "plt.scatter(np.deg2rad(10.45), np.deg2rad(51.16), color=\"r\", marker=\"x\", linewidth=10, s=s);\n",
    "plt.scatter(np.deg2rad(22.93), np.deg2rad(-30.559), color=\"r\", marker=\"x\", linewidth=10, s=s);\n",
    "#plt.scatter(np.deg2rad(10), np.deg2rad(90), color=\"r\", marker=\"x\", linewidth=10, s=s);\n",
    "\n",
    "#hp.boundaries()\n",
    "#newprojplot(np.radians(df['Latitude in degrees'].to_numpy()), np.radians(df['Longitude in degrees'].to_numpy()))"
   ]
  },
  {
   "cell_type": "code",
   "execution_count": null,
   "id": "d1068c70",
   "metadata": {},
   "outputs": [],
   "source": [
    "from PIL import Image\n",
    "\n",
    "def changeImageSize(maxWidth, \n",
    "                    maxHeight, \n",
    "                    image):\n",
    "    \n",
    "    widthRatio  = maxWidth/image.size[0]\n",
    "    heightRatio = maxHeight/image.size[1]\n",
    "\n",
    "    newWidth    = int(widthRatio*image.size[0])\n",
    "    newHeight   = int(heightRatio*image.size[1])\n",
    "\n",
    "    newImage    = image.resize((newWidth, newHeight))\n",
    "    return newImage\n",
    "  \n",
    "\n",
    "img1 = Image.open(r\"/home/ghoshsonia/rfi_RRI/400@94.png\")\n",
    "img2 = Image.open(r\"/home/ghoshsonia/rfi_RRI/new_Earth.png\")\n",
    "  \n",
    "# No transparency mask specified, \n",
    "\n",
    "\n",
    "image3 = changeImageSize(800, 500, img1)\n",
    "image4 = changeImageSize(800, 500, img2)\n",
    "\n",
    "# Make sure images got an alpha channel\n",
    "image5 = image3.convert(\"RGBA\")\n",
    "image6 = image4.convert(\"RGBA\")\n",
    "#image5.show()\n",
    "#image6.show()\n",
    "\n",
    "# simulating an raster overlay\n",
    "alphaBlended2 = Image.blend(image5, image6, alpha=.4)\n",
    "  \n",
    "alphaBlended2.show()"
   ]
  },
  {
   "cell_type": "code",
   "execution_count": null,
   "id": "dad0489d",
   "metadata": {},
   "outputs": [],
   "source": [
    "projview(\n",
    "    test_plot,\n",
    "    coord=[\"C\",\"G\"],\n",
    "    hold=False,\n",
    "    graticule=True,\n",
    "    graticule_labels=True,\n",
    "    unit=\"in Kelvin\",\n",
    "    xlabel=\"longitude\",\n",
    "    ylabel=\"latitude\",\n",
    "    cb_orientation=\"horizontal\",\n",
    "    projection_type=\"3d\",\n",
    "    title=\"3D projection\",\n",
    "    );"
   ]
  },
  {
   "cell_type": "code",
   "execution_count": null,
   "id": "56ee0b48",
   "metadata": {},
   "outputs": [],
   "source": [
    "# Replacing the power value of 0 to a minimum value 1.000001 in order to apply logarithmic equalization in \n",
    "# the Healpy map\n",
    "\n",
    "\n",
    "power_output_log=np.where(power_output[0,:,6]==0, 1.0000001, power_output[0,:,6])\n",
    "power_output_log"
   ]
  },
  {
   "cell_type": "code",
   "execution_count": null,
   "id": "ec03a92c",
   "metadata": {},
   "outputs": [],
   "source": [
    "###-------Plotting of the Healpy Map in mollweide projection------###\n",
    "#####------For an altitude of 400 km at 90 MHz with logarithmic equalization----------------------#######\n",
    "\n",
    "\n",
    "test_plot12 = np.zeros(hp.nside2npix(nside))\n",
    "test_plot12[0:np.size(power_output[0,:,6])] = power_output_log\n",
    "test_plot12=np.where(test_plot12==0, 1.0000001,test_plot12 )"
   ]
  },
  {
   "cell_type": "code",
   "execution_count": null,
   "id": "5ed793a6",
   "metadata": {},
   "outputs": [],
   "source": [
    "hp.mollview(test_plot12,cmap='inferno',unit=\"in Kelvin\",title=\"Mollweide projection at an altitude 400 km for Received power in Kelvin at 90 MHz\",flip='geo',norm=\"log\")#,cb_orientation=\"vertical\",title=\"Mollweide projection for Received power in Kelvin at 88.9MHz\",flip='g')\n",
    "hp.graticule()"
   ]
  },
  {
   "cell_type": "code",
   "execution_count": null,
   "id": "f216a492",
   "metadata": {},
   "outputs": [],
   "source": [
    "# Replacing the power value of 0 to a minimum value 1.000001 in order to apply logarithmic equalization in \n",
    "# the Healpy map\n",
    "\n",
    "\n",
    "power_output_log1=np.where(power_output[1,:,6]==0, 1.0000001, power_output[1,:,6])\n",
    "np.shape(power_output_log1)"
   ]
  },
  {
   "cell_type": "code",
   "execution_count": null,
   "id": "5cac2e97",
   "metadata": {},
   "outputs": [],
   "source": [
    "###-------Plotting of the Healpy Map in mollweide projection------###\n",
    "#####------For an altitude of 3794 km at 90 MHz with logarithmic equalization----------------------#######\n",
    "\n",
    "\n",
    "test_plot13 = np.zeros(hp.nside2npix(nside))\n",
    "test_plot13[0:np.size(power_output[1,:,6])] = power_output_log1\n",
    "test_plot13=np.where(test_plot13==0, 1.0000001,test_plot13 )"
   ]
  },
  {
   "cell_type": "code",
   "execution_count": null,
   "id": "bbe0366f",
   "metadata": {},
   "outputs": [],
   "source": [
    "hp.mollview(test_plot13,cmap='inferno',unit=\"in Kelvin\",title=\"Mollweide projection at an altitude 3794 km for Received power in Kelvin at 90 MHz\",flip='geo',norm=\"log\")#,cb_orientation=\"vertical\",title=\"Mollweide projection for Received power in Kelvin at 88.9MHz\",flip='g')\n",
    "hp.graticule()"
   ]
  },
  {
   "cell_type": "code",
   "execution_count": null,
   "id": "f5bf7336",
   "metadata": {},
   "outputs": [],
   "source": []
  }
 ],
 "metadata": {
  "kernelspec": {
   "display_name": "Python 3",
   "language": "python",
   "name": "python3"
  },
  "language_info": {
   "codemirror_mode": {
    "name": "ipython",
    "version": 3
   },
   "file_extension": ".py",
   "mimetype": "text/x-python",
   "name": "python",
   "nbconvert_exporter": "python",
   "pygments_lexer": "ipython3",
   "version": "3.8.8"
  }
 },
 "nbformat": 4,
 "nbformat_minor": 5
}

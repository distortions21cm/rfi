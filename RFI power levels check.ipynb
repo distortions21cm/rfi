{
 "cells": [
  {
   "cell_type": "code",
   "execution_count": 2,
   "metadata": {},
   "outputs": [],
   "source": [
    "import numpy as np\n",
    "import matplotlib.pyplot as plt\n",
    "import scipy.constants as constants"
   ]
  },
  {
   "cell_type": "code",
   "execution_count": 4,
   "metadata": {},
   "outputs": [
    {
     "name": "stdout",
     "output_type": "stream",
     "text": [
      "299792458.0\n",
      "3.141592653589793\n"
     ]
    }
   ],
   "source": [
    "cc = constants.c\n",
    "print(cc)\n",
    "PI = constants.pi\n",
    "print(PI)"
   ]
  },
  {
   "cell_type": "code",
   "execution_count": 21,
   "metadata": {},
   "outputs": [],
   "source": [
    "spectrum = lambda f1,f2,T1,alpha : T1*((f2/f1)**(-1*alpha))\n",
    "Friis = lambda Pt,R,f : Pt*((c/(4*PI*R*f))**2)\n",
    "Friis_2 = lambda Pt,R1,R2 : Pt*((R1/R2)**2)\n",
    "dB_to_lin = lambda dB : 10**(dB/10)\n",
    "sky_to_RFI = lambda sky : sky*(10**(44/10))"
   ]
  },
  {
   "cell_type": "code",
   "execution_count": 8,
   "metadata": {},
   "outputs": [
    {
     "name": "stdout",
     "output_type": "stream",
     "text": [
      "940.7476629320706\n"
     ]
    }
   ],
   "source": [
    "T_sky_88 = spectrum(150,88,248,2.5)\n",
    "print(T_sky_88)"
   ]
  },
  {
   "cell_type": "code",
   "execution_count": 10,
   "metadata": {},
   "outputs": [
    {
     "name": "stdout",
     "output_type": "stream",
     "text": [
      "23630512.899934184\n"
     ]
    }
   ],
   "source": [
    "T_rfi_88_6000 = sky_to_RFI(T_sky_88)\n",
    "print(T_rfi_88_6000)"
   ]
  },
  {
   "cell_type": "code",
   "execution_count": 22,
   "metadata": {},
   "outputs": [
    {
     "name": "stdout",
     "output_type": "stream",
     "text": [
      "5316865402.485191\n"
     ]
    }
   ],
   "source": [
    "T_rfi_88_400 = Friis_2(T_rfi_88_6000,6000.0,400.0)\n",
    "print(T_rfi_88_400)"
   ]
  },
  {
   "cell_type": "code",
   "execution_count": 23,
   "metadata": {},
   "outputs": [
    {
     "name": "stdout",
     "output_type": "stream",
     "text": [
      "RFI at 88 MHz in LEO at 400 km is 5.32e+09\n"
     ]
    }
   ],
   "source": [
    "print('RFI at 88 MHz in LEO at 400 km is %1.2e'%T_rfi_88_400)"
   ]
  },
  {
   "cell_type": "code",
   "execution_count": 24,
   "metadata": {},
   "outputs": [
    {
     "name": "stdout",
     "output_type": "stream",
     "text": [
      "RFI at 88 MHz in LEO at 400 km is 6.56e+05\n"
     ]
    }
   ],
   "source": [
    "T_rfi_88_36000 = Friis_2(T_rfi_88_6000,6000.0,36000.0)\n",
    "print('RFI at 88 MHz in GEO at 36000 km is %1.2e'%T_rfi_88_36000)"
   ]
  },
  {
   "cell_type": "code",
   "execution_count": 25,
   "metadata": {},
   "outputs": [
    {
     "name": "stdout",
     "output_type": "stream",
     "text": [
      "RFI at 88 MHz in LEO at 400 km as per RAE-2 is 8.67e+10\n"
     ]
    }
   ],
   "source": [
    "sky_to_RFI_RAE2 = lambda sky : sky*(10**(20/10))\n",
    "T_rfi_88_moon = sky_to_RFI_RAE2(T_sky_88)\n",
    "T_rfi_88_400_RAE2 = Friis_2(T_rfi_88_moon,384000,400)\n",
    "print('RFI at 88 MHz in LEO at 400 km as per RAE-2 is %1.2e'%T_rfi_88_400_RAE2)"
   ]
  },
  {
   "cell_type": "code",
   "execution_count": 26,
   "metadata": {},
   "outputs": [
    {
     "data": {
      "text/plain": [
       "865910783.473622"
      ]
     },
     "execution_count": 26,
     "metadata": {},
     "output_type": "execute_result"
    }
   ],
   "source": [
    "T_sky_88*10**(59.64/10)"
   ]
  },
  {
   "cell_type": "code",
   "execution_count": 29,
   "metadata": {},
   "outputs": [
    {
     "data": {
      "text/plain": [
       "20.56057447200487"
      ]
     },
     "execution_count": 29,
     "metadata": {},
     "output_type": "execute_result"
    }
   ],
   "source": [
    "10*np.log10((384000/36000)**2)"
   ]
  },
  {
   "cell_type": "code",
   "execution_count": 30,
   "metadata": {},
   "outputs": [
    {
     "name": "stdout",
     "output_type": "stream",
     "text": [
      "RFI at 88 MHz in GEO at 36000 km as per RAE-2 is 1.07e+07\n"
     ]
    }
   ],
   "source": [
    "T_rfi_88_36000_RAE2 = Friis_2(T_rfi_88_moon,384000,36000)\n",
    "print('RFI at 88 MHz in GEO at 36000 km as per RAE-2 is %1.2e'%T_rfi_88_36000_RAE2)"
   ]
  },
  {
   "cell_type": "code",
   "execution_count": null,
   "metadata": {},
   "outputs": [],
   "source": []
  }
 ],
 "metadata": {
  "kernelspec": {
   "display_name": "Python 3",
   "language": "python",
   "name": "python3"
  },
  "language_info": {
   "codemirror_mode": {
    "name": "ipython",
    "version": 3
   },
   "file_extension": ".py",
   "mimetype": "text/x-python",
   "name": "python",
   "nbconvert_exporter": "python",
   "pygments_lexer": "ipython3",
   "version": "3.8.5"
  }
 },
 "nbformat": 4,
 "nbformat_minor": 4
}
